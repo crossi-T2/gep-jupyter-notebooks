{
 "cells": [
  {
   "cell_type": "markdown",
   "metadata": {
    "colab_type": "text",
    "id": "Df0mSMe_yNWz"
   },
   "source": [
    "# Invoke the Production Center v2 WPS services using Python"
   ]
  },
  {
   "cell_type": "markdown",
   "metadata": {
    "colab_type": "text",
    "id": "7ytfnaG6yhEw"
   },
   "source": [
    "## Setup the Access Credentials"
   ]
  },
  {
   "cell_type": "markdown",
   "metadata": {},
   "source": [
    "### Username and Login Token\n",
    "Username and Login Token provide access to the WPS endpoint. The Login Token can be permanent or have a temporal validity. It can be generate from the [User Profile](https://docs.terradue.com/ellip/accounts/myaccount/profile.html) page. \n",
    "\n",
    "#### Note\n",
    "_In case the Login Token has a temporal validity, it can also be stored within this document._"
   ]
  },
  {
   "cell_type": "code",
   "execution_count": 1,
   "metadata": {
    "colab": {},
    "colab_type": "code",
    "id": "U8_L4_60nUHj"
   },
   "outputs": [],
   "source": [
    "username = 'crossi'\n",
    "\n",
    "# this token has a short temporal validity\n",
    "login_token = 'da39a3ee5e6b4b0d3255bfef95601890afd80709'\n",
    "\n",
    "wps_credentials = username + ':' + login_token"
   ]
  },
  {
   "cell_type": "markdown",
   "metadata": {
    "colab_type": "text",
    "id": "zpuvEC951D25"
   },
   "source": [
    "### API Key\n",
    "API key provides access to the [Data Agency](https://docs.terradue.com/ellip/core/da/index.html), for the stage-out of the processing results.\n",
    "\n",
    "#### Note\n",
    "_The API Key is permanent, so it cannot be stored within this document._"
   ]
  },
  {
   "cell_type": "code",
   "execution_count": 2,
   "metadata": {
    "colab": {},
    "colab_type": "code",
    "id": "YOsAPV-g1KSr"
   },
   "outputs": [],
   "source": [
    "import getpass\n",
    "api_key  = getpass.getpass(prompt='API key: ', stream=None)"
   ]
  },
  {
   "cell_type": "markdown",
   "metadata": {
    "colab_type": "text",
    "id": "bemUYvsWyI3Y"
   },
   "source": [
    "## Inspect the OGC WPS capabilities"
   ]
  },
  {
   "cell_type": "code",
   "execution_count": 3,
   "metadata": {
    "colab": {},
    "colab_type": "code",
    "id": "saD8NhU8nIqn"
   },
   "outputs": [],
   "source": [
    "from owslib.wps import WebProcessingService\n",
    "from owslib.wps import printInputOutput"
   ]
  },
  {
   "cell_type": "code",
   "execution_count": 4,
   "metadata": {
    "colab": {},
    "colab_type": "code",
    "id": "HVZbuLX8n4ri"
   },
   "outputs": [],
   "source": [
    "wps_url = \"https://wps-pc.terradue.com/zoo/?\"\n",
    "wps = WebProcessingService(wps_url, verbose=False, skip_caps=True, headers={'Authorization': wps_credentials})"
   ]
  },
  {
   "cell_type": "code",
   "execution_count": 5,
   "metadata": {
    "colab": {},
    "colab_type": "code",
    "id": "CDATVtkCogey"
   },
   "outputs": [],
   "source": [
    "wps.getcapabilities()"
   ]
  },
  {
   "cell_type": "code",
   "execution_count": 6,
   "metadata": {
    "colab": {
     "base_uri": "https://localhost:8080/",
     "height": 68
    },
    "colab_type": "code",
    "id": "kNFnJTAaorrf",
    "outputId": "f8d18114-2e9d-4d34-9673-a21c46678142"
   },
   "outputs": [
    {
     "name": "stdout",
     "output_type": "stream",
     "text": [
      "GetCapabilities\n",
      "DescribeProcess\n",
      "Execute\n"
     ]
    }
   ],
   "source": [
    "for operation in wps.operations:\n",
    "    print(operation.name)"
   ]
  },
  {
   "cell_type": "code",
   "execution_count": 7,
   "metadata": {
    "colab": {
     "base_uri": "https://localhost:8080/",
     "height": 68
    },
    "colab_type": "code",
    "id": "pEH2uC3zpgeS",
    "outputId": "a210e682-fa64-452a-ea13-a673ae6f6557"
   },
   "outputs": [
    {
     "name": "stdout",
     "output_type": "stream",
     "text": [
      "GetStatus\n",
      "jobcatalog\n",
      "i5188c3b27e04b30c5f1186cb525c0fb02070e687\n"
     ]
    }
   ],
   "source": [
    "for process in wps.processes:\n",
    "    print(process.identifier)"
   ]
  },
  {
   "cell_type": "markdown",
   "metadata": {
    "colab_type": "text",
    "id": "dT3V9HWLyy_o"
   },
   "source": [
    "## Select a processing service"
   ]
  },
  {
   "cell_type": "code",
   "execution_count": 8,
   "metadata": {
    "colab": {},
    "colab_type": "code",
    "id": "qbkZIO-By3Qv"
   },
   "outputs": [],
   "source": [
    "process_id = 'i5188c3b27e04b30c5f1186cb525c0fb02070e687'"
   ]
  },
  {
   "cell_type": "markdown",
   "metadata": {
    "colab_type": "text",
    "id": "DN5Urjzex-_I"
   },
   "source": [
    "## Inspect the OGC WPS process information and inputs"
   ]
  },
  {
   "cell_type": "code",
   "execution_count": 9,
   "metadata": {
    "colab": {},
    "colab_type": "code",
    "id": "9MkJQFEupn7L"
   },
   "outputs": [],
   "source": [
    "process = wps.describeprocess(process_id)"
   ]
  },
  {
   "cell_type": "code",
   "execution_count": 10,
   "metadata": {
    "colab": {
     "base_uri": "https://localhost:8080/",
     "height": 34
    },
    "colab_type": "code",
    "id": "d9MV5Pohpvjl",
    "outputId": "3ca1d666-94ea-4abf-fc10-4c0c2960eaa3"
   },
   "outputs": [
    {
     "data": {
      "text/plain": [
       "'Full Resolution Rasterization'"
      ]
     },
     "execution_count": 10,
     "metadata": {},
     "output_type": "execute_result"
    }
   ],
   "source": [
    "process.title"
   ]
  },
  {
   "cell_type": "code",
   "execution_count": 11,
   "metadata": {
    "colab": {
     "base_uri": "https://localhost:8080/",
     "height": 54
    },
    "colab_type": "code",
    "id": "k5A8ZXU_pyup",
    "outputId": "20308f7c-837f-49b0-afe8-092cf8bddd24"
   },
   "outputs": [
    {
     "data": {
      "text/plain": [
       "'This service allows to generate full resolution RGB (optical) and single-channel (SAR) GeoTiff images from EO data. The service supports EO data from the following missions: ALOS-2 (L1.5), GF-2 (L2A), Kanopus-V IK (MSS_PSS) , Kompsat-2/-3 (L1G PAN_MS), Kompsat-5 (L1D GTC), Landsat 8 (L1TP,L1T,L1GT), Pleiades 1 (ORTHO), Radarsat-2 (SGF), Rapideye (L3A ORTHO), Resurs-P (KSHMSA), Sentinel-1 (L1 GRD), Sentinel-2 (L1C, L2A), Sentinel-3 (L1 OLCI ERR/EFR, L1 SLSTR RBT), SPOT-6/7 (L3 ORTHO), Terrasar-X (L1B EEC), UK-DMC 2 (L1T), VRSS1 (L2B). The tutorial can be found at: https://terradue.github.io/doc-tep-geohazards/tutorials/rss_full_resolution_rasterization.html'"
      ]
     },
     "execution_count": 11,
     "metadata": {},
     "output_type": "execute_result"
    }
   ],
   "source": [
    "process.abstract"
   ]
  },
  {
   "cell_type": "code",
   "execution_count": 12,
   "metadata": {
    "colab": {
     "base_uri": "https://localhost:8080/",
     "height": 510
    },
    "colab_type": "code",
    "id": "Mq0gLcXKp0NM",
    "outputId": "6bf96832-736d-4674-83d7-0eff356b6f0a"
   },
   "outputs": [
    {
     "name": "stdout",
     "output_type": "stream",
     "text": [
      " identifier=data_reference, title=Data reference, abstract=Define the data product reference to be browsed in full resolution, data type=string\n",
      " Any value allowed\n",
      " Default Value: None \n",
      " minOccurs=1, maxOccurs=9999\n",
      "***\n",
      " identifier=_T2Username, title=User name, abstract=Valid usernames, data type=string\n",
      " Any value allowed\n",
      " Default Value: None \n",
      " minOccurs=1, maxOccurs=1\n",
      "***\n",
      " identifier=_T2Apikey, title=User Api key, abstract=Valid user's Api key, data type=string\n",
      " Any value allowed\n",
      " Default Value: null \n",
      " minOccurs=1, maxOccurs=1\n",
      "***\n",
      " identifier=_T2JobInfoFeed, title=Job Info Atom Feed, abstract=Atom Feed containing information about the WPS job, data type=string\n",
      " Any value allowed\n",
      " Default Value: null \n",
      " minOccurs=0, maxOccurs=1\n",
      "***\n",
      " identifier=_T2ResultsAnalysis, title=Results Analysis, abstract=Terradue results analysis system, data type=string\n",
      " Allowed Value: skip\n",
      " Allowed Value: basic\n",
      " Allowed Value: intermediate\n",
      " Allowed Value: advanced\n",
      " Allowed Value: extended\n",
      " Default Value: basic \n",
      " minOccurs=0, maxOccurs=1\n",
      "***\n"
     ]
    }
   ],
   "source": [
    "for input in process.dataInputs:\n",
    "    printInputOutput(input)\n",
    "    print('***')"
   ]
  },
  {
   "cell_type": "markdown",
   "metadata": {
    "colab_type": "text",
    "id": "S7Xm1DxV0OyY"
   },
   "source": [
    "Prepare the execution request"
   ]
  },
  {
   "cell_type": "code",
   "execution_count": 13,
   "metadata": {
    "colab": {},
    "colab_type": "code",
    "id": "irmXM7a2y6VN"
   },
   "outputs": [],
   "source": [
    "inputs = []\n",
    "inputs.append(('data_reference','https://catalog.terradue.com/sentinel2/search?format=json&uid=S2A_MSIL2A_20190908T235241_N0213_R130_T56JNN_20190909T015043'))\n",
    "inputs.append(('_T2Username', username))\n",
    "inputs.append(('_T2Apikey', api_key))\n",
    "inputs.append(('_T2ResultsAnalysis','advanced'))\n",
    "\n",
    "outputs = []\n",
    "outputs.append(('result_osd',False))\n",
    "outputs.append(('t2_logs',False))"
   ]
  },
  {
   "cell_type": "markdown",
   "metadata": {
    "colab_type": "text",
    "id": "sjKrqofb2b7W"
   },
   "source": [
    "## Execute and monitor the request"
   ]
  },
  {
   "cell_type": "code",
   "execution_count": 14,
   "metadata": {
    "colab": {},
    "colab_type": "code",
    "id": "EcQl1n9x0VZX"
   },
   "outputs": [],
   "source": [
    "execution = wps.execute(process_id, inputs, outputs)"
   ]
  },
  {
   "cell_type": "code",
   "execution_count": 15,
   "metadata": {
    "colab": {},
    "colab_type": "code",
    "id": "1YVgdT_0q2_5"
   },
   "outputs": [],
   "source": [
    "# This is a workaround because the provided statusLocation protocol is http, which is not correct\n",
    "statusLocation = execution.statusLocation.replace('http://','https://')"
   ]
  },
  {
   "cell_type": "code",
   "execution_count": 21,
   "metadata": {
    "colab": {
     "base_uri": "https://localhost:8080/",
     "height": 34
    },
    "colab_type": "code",
    "id": "o5wcGPH2qyEu",
    "outputId": "038f475e-fa19-46d3-84e3-3303e088faed"
   },
   "outputs": [
    {
     "data": {
      "text/plain": [
       "'https://wps-pc.terradue.com/zoo-bin/zoo_loader.cgi?request=Execute&service=WPS&version=1.0.0&Identifier=GetStatus&DataInputs=sid=9254bcf4-806e-11ea-b283-0a580a80064b&RawDataOutput=Result'"
      ]
     },
     "execution_count": 21,
     "metadata": {},
     "output_type": "execute_result"
    }
   ],
   "source": [
    "statusLocation"
   ]
  },
  {
   "cell_type": "code",
   "execution_count": 22,
   "metadata": {},
   "outputs": [
    {
     "data": {
      "text/plain": [
       "'ProcessAccepted'"
      ]
     },
     "execution_count": 22,
     "metadata": {},
     "output_type": "execute_result"
    }
   ],
   "source": [
    "execution.getStatus()"
   ]
  },
  {
   "cell_type": "code",
   "execution_count": 28,
   "metadata": {},
   "outputs": [],
   "source": [
    "execution.checkStatus(url=statusLocation)"
   ]
  },
  {
   "cell_type": "code",
   "execution_count": 26,
   "metadata": {},
   "outputs": [
    {
     "data": {
      "text/plain": [
       "'ProcessAccepted'"
      ]
     },
     "execution_count": 26,
     "metadata": {},
     "output_type": "execute_result"
    }
   ],
   "source": [
    "execution.getStatus()"
   ]
  },
  {
   "cell_type": "code",
   "execution_count": 38,
   "metadata": {},
   "outputs": [],
   "source": [
    "import requests\n",
    "import xml.dom.minidom"
   ]
  },
  {
   "cell_type": "code",
   "execution_count": 40,
   "metadata": {},
   "outputs": [
    {
     "name": "stdout",
     "output_type": "stream",
     "text": [
      "<?xml version=\"1.0\" ?>\n",
      "<wps:ExecuteResponse xmlns:ows=\"http://www.opengis.net/ows/1.1\" xmlns:wps=\"http://www.opengis.net/wps/1.0.0\" xmlns:xlink=\"http://www.w3.org/1999/xlink\" xmlns:xsi=\"http://www.w3.org/2001/XMLSchema-instance\" xsi:schemaLocation=\"http://www.opengis.net/wps/1.0.0 http://schemas.opengis.net/wps/1.0.0/wpsExecute_response.xsd\" service=\"WPS\" version=\"1.0.0\" xml:lang=\"en-US\" serviceInstance=\"http://wps-pc.terradue.com/zoo-bin/zoo_loader.cgi\" statusLocation=\"http://wps-pc.terradue.com/zoo-bin/zoo_loader.cgi?request=Execute&amp;service=WPS&amp;version=1.0.0&amp;Identifier=GetStatus&amp;DataInputs=sid=9254bcf4-806e-11ea-b283-0a580a80064b&amp;RawDataOutput=Result\">\n",
      "\t\n",
      "  \n",
      "\t<wps:Process wps:processVersion=\"1.0.0\">\n",
      "\t\t\n",
      "    \n",
      "\t\t<ows:Identifier>i5188c3b27e04b30c5f1186cb525c0fb02070e687</ows:Identifier>\n",
      "\t\t\n",
      "    \n",
      "\t\t<ows:Title>Full Resolution Rasterization</ows:Title>\n",
      "\t\t\n",
      "    \n",
      "\t\t<ows:Abstract>This service allows to generate full resolution RGB (optical) and single-channel (SAR) GeoTiff images from EO data. The service supports EO data from the following missions: ALOS-2 (L1.5), GF-2 (L2A), Kanopus-V IK (MSS_PSS) , Kompsat-2/-3 (L1G PAN_MS), Kompsat-5 (L1D GTC), Landsat 8 (L1TP,L1T,L1GT), Pleiades 1 (ORTHO), Radarsat-2 (SGF), Rapideye (L3A ORTHO), Resurs-P (KSHMSA), Sentinel-1 (L1 GRD), Sentinel-2 (L1C, L2A), Sentinel-3 (L1 OLCI ERR/EFR, L1 SLSTR RBT), SPOT-6/7 (L3 ORTHO), Terrasar-X (L1B EEC), UK-DMC 2 (L1T), VRSS1 (L2B). The tutorial can be found at: https://terradue.github.io/doc-tep-geohazards/tutorials/rss_full_resolution_rasterization.html</ows:Abstract>\n",
      "\t\t\n",
      "  \n",
      "\t</wps:Process>\n",
      "\t\n",
      "  \n",
      "\t<wps:Status creationTime=\"2020-04-17T05:51:36Z\">\n",
      "\t\t\n",
      "    \n",
      "\t\t<wps:ProcessSucceeded>The service &quot;i5188c3b27e04b30c5f1186cb525c0fb02070e687&quot; ran successfully.</wps:ProcessSucceeded>\n",
      "\t\t\n",
      "  \n",
      "\t</wps:Status>\n",
      "\t\n",
      "  \n",
      "\t<wps:ProcessOutputs>\n",
      "\t\t\n",
      "    \n",
      "\t\t<wps:Output>\n",
      "\t\t\t\n",
      "      \n",
      "\t\t\t<ows:Identifier>result_osd</ows:Identifier>\n",
      "\t\t\t\n",
      "      \n",
      "\t\t\t<ows:Title>OpenSearch Description to the Results</ows:Title>\n",
      "\t\t\t\n",
      "      \n",
      "\t\t\t<ows:Abstract>OpenSearch Description to the Results</ows:Abstract>\n",
      "\t\t\t\n",
      "      \n",
      "\t\t\t<wps:Reference href=\"https://recast.terradue.com/t2api/describe/crossi/_results/workflows/e4f3cb66-7e67-11ea-950e-0a580a83043a/run/9254bcf4-806e-11ea-b283-0a580a80064b/0032275-190318164522056-oozie-oozi-W\" MimeType=\"application/opensearchdescription+xml\"/>\n",
      "\t\t\t\n",
      "    \n",
      "\t\t</wps:Output>\n",
      "\t\t\n",
      "    \n",
      "\t\t<wps:Output>\n",
      "\t\t\t\n",
      "      \n",
      "\t\t\t<ows:Identifier>t2_logs</ows:Identifier>\n",
      "\t\t\t\n",
      "      \n",
      "\t\t\t<ows:Title>Job Logs</ows:Title>\n",
      "\t\t\t\n",
      "      \n",
      "\t\t\t<ows:Abstract>Application's logs</ows:Abstract>\n",
      "\t\t\t\n",
      "      \n",
      "\t\t\t<wps:Reference href=\"https://collector-pc.terradue.com/t2cl/9254bcf4-806e-11ea-b283-0a580a80064b/0032275-190318164522056-oozie-oozi-W/t2Info.json\" MimeType=\"application/json\"/>\n",
      "\t\t\t\n",
      "    \n",
      "\t\t</wps:Output>\n",
      "\t\t\n",
      "  \n",
      "\t</wps:ProcessOutputs>\n",
      "\t\n",
      "\n",
      "</wps:ExecuteResponse>\n",
      "\n"
     ]
    }
   ],
   "source": [
    "response = requests.get(statusLocation)\n",
    "\n",
    "dom = xml.dom.minidom.parseString(response.content)\n",
    "print(dom.toprettyxml())"
   ]
  },
  {
   "cell_type": "markdown",
   "metadata": {},
   "source": [
    "### Notes\n",
    "\n",
    "There is an issue with the [checkStatus](https://github.com/geopython/OWSLib/blob/45cbc2324ca372ea7745350e47a4cc90bdf21b60/owslib/wps.py#L790) method (or with [monitorExecution](https://github.com/geopython/OWSLib/blob/45cbc2324ca372ea7745350e47a4cc90bdf21b60/owslib/wps.py#L1886)) which does not update the status with this WPS server. It might be caused by the lack of redirection from HTTP to HTTPS of the statusLocation URL (see **Redirect HTTP to HTTPS for wps-pc.terradue.com** in [Production Center v2 - Recommendations from TTO](https://docs.google.com/document/d/1ks1Wz4Ckn567OhmuZZqiLXwdcJIQCCTbVYruAAMEtyE/edit#heading=h.uwl0uv44if45). A further investigation is required for this client code."
   ]
  }
 ],
 "metadata": {
  "colab": {
   "name": "Production Center v2 - WPS interface.ipynb",
   "provenance": [],
   "toc_visible": true
  },
  "kernelspec": {
   "display_name": "Python [conda env:owslib]",
   "language": "python",
   "name": "conda-env-owslib-py"
  },
  "language_info": {
   "codemirror_mode": {
    "name": "ipython",
    "version": 3
   },
   "file_extension": ".py",
   "mimetype": "text/x-python",
   "name": "python",
   "nbconvert_exporter": "python",
   "pygments_lexer": "ipython3",
   "version": "3.8.2"
  }
 },
 "nbformat": 4,
 "nbformat_minor": 2
}
