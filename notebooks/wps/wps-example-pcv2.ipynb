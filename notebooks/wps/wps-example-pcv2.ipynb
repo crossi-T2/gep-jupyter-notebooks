{
 "cells": [
  {
   "cell_type": "markdown",
   "metadata": {
    "colab_type": "text",
    "id": "Df0mSMe_yNWz"
   },
   "source": [
    "# Invoke the Production Center v2 WPS services using Python"
   ]
  },
  {
   "cell_type": "markdown",
   "metadata": {
    "colab_type": "text",
    "id": "7ytfnaG6yhEw"
   },
   "source": [
    "## Setup the Access Credentials"
   ]
  },
  {
   "cell_type": "markdown",
   "metadata": {},
   "source": [
    "### Username and Login Token\n",
    "Username and Login Token provide access to the WPS endpoint."
   ]
  },
  {
   "cell_type": "code",
   "execution_count": null,
   "metadata": {
    "colab": {},
    "colab_type": "code",
    "id": "U8_L4_60nUHj"
   },
   "outputs": [],
   "source": [
    "username = 'crossi'\n",
    "\n",
    "# this token has a short temporal validity\n",
    "login_token = 'da39a3ee5e6b4b0d3255bfef95601890afd80709'\n",
    "\n",
    "wps_credentials = username + ':' + login_token"
   ]
  },
  {
   "cell_type": "markdown",
   "metadata": {
    "colab_type": "text",
    "id": "zpuvEC951D25"
   },
   "source": [
    "### API Key\n",
    "API key provides access to the Data Agency, for the stage-out of the processing results."
   ]
  },
  {
   "cell_type": "code",
   "execution_count": null,
   "metadata": {
    "colab": {},
    "colab_type": "code",
    "id": "YOsAPV-g1KSr"
   },
   "outputs": [],
   "source": [
    "import getpass\n",
    "api_key  = getpass.getpass(prompt='API key: ', stream=None)"
   ]
  },
  {
   "cell_type": "markdown",
   "metadata": {
    "colab_type": "text",
    "id": "bemUYvsWyI3Y"
   },
   "source": [
    "## Inspect the OGC WPS capabilities"
   ]
  },
  {
   "cell_type": "code",
   "execution_count": null,
   "metadata": {
    "colab": {},
    "colab_type": "code",
    "id": "saD8NhU8nIqn"
   },
   "outputs": [],
   "source": [
    "from owslib.wps import WebProcessingService\n",
    "from owslib.wps import printInputOutput"
   ]
  },
  {
   "cell_type": "code",
   "execution_count": null,
   "metadata": {
    "colab": {},
    "colab_type": "code",
    "id": "HVZbuLX8n4ri"
   },
   "outputs": [],
   "source": [
    "wps_url = \"https://wps-pc.terradue.com/zoo/?\"\n",
    "wps = WebProcessingService(wps_url, verbose=False, skip_caps=True, headers={'Authorization': wps_credentials})"
   ]
  },
  {
   "cell_type": "code",
   "execution_count": null,
   "metadata": {
    "colab": {},
    "colab_type": "code",
    "id": "CDATVtkCogey"
   },
   "outputs": [],
   "source": [
    "wps.getcapabilities()"
   ]
  },
  {
   "cell_type": "code",
   "execution_count": null,
   "metadata": {
    "colab": {
     "base_uri": "https://localhost:8080/",
     "height": 68
    },
    "colab_type": "code",
    "id": "kNFnJTAaorrf",
    "outputId": "f8d18114-2e9d-4d34-9673-a21c46678142"
   },
   "outputs": [],
   "source": [
    "for operation in wps.operations:\n",
    "    print(operation.name)"
   ]
  },
  {
   "cell_type": "code",
   "execution_count": null,
   "metadata": {
    "colab": {
     "base_uri": "https://localhost:8080/",
     "height": 68
    },
    "colab_type": "code",
    "id": "pEH2uC3zpgeS",
    "outputId": "a210e682-fa64-452a-ea13-a673ae6f6557"
   },
   "outputs": [],
   "source": [
    "for process in wps.processes:\n",
    "    print(process.identifier)"
   ]
  },
  {
   "cell_type": "markdown",
   "metadata": {
    "colab_type": "text",
    "id": "dT3V9HWLyy_o"
   },
   "source": [
    "## Select a processing service"
   ]
  },
  {
   "cell_type": "code",
   "execution_count": null,
   "metadata": {
    "colab": {},
    "colab_type": "code",
    "id": "qbkZIO-By3Qv"
   },
   "outputs": [],
   "source": [
    "process_id = 'i5188c3b27e04b30c5f1186cb525c0fb02070e687'"
   ]
  },
  {
   "cell_type": "markdown",
   "metadata": {
    "colab_type": "text",
    "id": "DN5Urjzex-_I"
   },
   "source": [
    "## Inspect the OGC WPS process information and inputs"
   ]
  },
  {
   "cell_type": "code",
   "execution_count": null,
   "metadata": {
    "colab": {},
    "colab_type": "code",
    "id": "9MkJQFEupn7L"
   },
   "outputs": [],
   "source": [
    "process = wps.describeprocess(process_id)"
   ]
  },
  {
   "cell_type": "code",
   "execution_count": null,
   "metadata": {
    "colab": {
     "base_uri": "https://localhost:8080/",
     "height": 34
    },
    "colab_type": "code",
    "id": "d9MV5Pohpvjl",
    "outputId": "3ca1d666-94ea-4abf-fc10-4c0c2960eaa3"
   },
   "outputs": [],
   "source": [
    "process.title"
   ]
  },
  {
   "cell_type": "code",
   "execution_count": null,
   "metadata": {
    "colab": {
     "base_uri": "https://localhost:8080/",
     "height": 54
    },
    "colab_type": "code",
    "id": "k5A8ZXU_pyup",
    "outputId": "20308f7c-837f-49b0-afe8-092cf8bddd24"
   },
   "outputs": [],
   "source": [
    "process.abstract"
   ]
  },
  {
   "cell_type": "code",
   "execution_count": null,
   "metadata": {
    "colab": {
     "base_uri": "https://localhost:8080/",
     "height": 510
    },
    "colab_type": "code",
    "id": "Mq0gLcXKp0NM",
    "outputId": "6bf96832-736d-4674-83d7-0eff356b6f0a"
   },
   "outputs": [],
   "source": [
    "for input in process.dataInputs:\n",
    "    printInputOutput(input)\n",
    "    print('***')"
   ]
  },
  {
   "cell_type": "markdown",
   "metadata": {
    "colab_type": "text",
    "id": "S7Xm1DxV0OyY"
   },
   "source": [
    "Prepare the execution request"
   ]
  },
  {
   "cell_type": "code",
   "execution_count": null,
   "metadata": {
    "colab": {},
    "colab_type": "code",
    "id": "irmXM7a2y6VN"
   },
   "outputs": [],
   "source": [
    "inputs = []\n",
    "inputs.append(('data_reference','https://catalog.terradue.com/sentinel2/search?format=json&uid=S2A_MSIL2A_20190908T235241_N0213_R130_T56JNN_20190909T015043'))\n",
    "inputs.append(('_T2Username', username))\n",
    "inputs.append(('_T2Apikey', api_key))\n",
    "inputs.append(('_T2ResultsAnalysis','advanced'))\n",
    "\n",
    "outputs = []\n",
    "outputs.append(('result_osd',False))\n",
    "outputs.append(('t2_logs',False))"
   ]
  },
  {
   "cell_type": "markdown",
   "metadata": {
    "colab_type": "text",
    "id": "sjKrqofb2b7W"
   },
   "source": [
    "## Execute and monitor the request"
   ]
  },
  {
   "cell_type": "code",
   "execution_count": null,
   "metadata": {
    "colab": {},
    "colab_type": "code",
    "id": "EcQl1n9x0VZX"
   },
   "outputs": [],
   "source": [
    "execution = wps.execute(process_id, inputs, outputs)"
   ]
  },
  {
   "cell_type": "code",
   "execution_count": null,
   "metadata": {
    "colab": {},
    "colab_type": "code",
    "id": "1YVgdT_0q2_5"
   },
   "outputs": [],
   "source": [
    "# This is a workaround \n",
    "statusLocation = execution.statusLocation.replace('http://','https://')"
   ]
  },
  {
   "cell_type": "code",
   "execution_count": null,
   "metadata": {
    "colab": {
     "base_uri": "https://localhost:8080/",
     "height": 34
    },
    "colab_type": "code",
    "id": "o5wcGPH2qyEu",
    "outputId": "038f475e-fa19-46d3-84e3-3303e088faed"
   },
   "outputs": [],
   "source": [
    "statusLocation"
   ]
  }
 ],
 "metadata": {
  "colab": {
   "name": "Production Center v2 - WPS interface.ipynb",
   "provenance": [],
   "toc_visible": true
  },
  "kernelspec": {
   "display_name": "Python [default]",
   "language": "python",
   "name": "python3"
  },
  "language_info": {
   "codemirror_mode": {
    "name": "ipython",
    "version": 3
   },
   "file_extension": ".py",
   "mimetype": "text/x-python",
   "name": "python",
   "nbconvert_exporter": "python",
   "pygments_lexer": "ipython3",
   "version": "3.5.6"
  }
 },
 "nbformat": 4,
 "nbformat_minor": 2
}
