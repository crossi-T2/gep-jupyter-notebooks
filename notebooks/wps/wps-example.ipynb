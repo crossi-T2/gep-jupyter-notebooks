{
 "cells": [
  {
   "cell_type": "markdown",
   "metadata": {},
   "source": [
    "# NextGEOSS\n",
    "## Invoke the SatCen's Change Detection service using Jupyter"
   ]
  },
  {
   "cell_type": "markdown",
   "metadata": {},
   "source": [
    "### Inspect the OGC WPS capabilities"
   ]
  },
  {
   "cell_type": "code",
   "execution_count": 1,
   "metadata": {},
   "outputs": [],
   "source": [
    "from owslib.wps import WebProcessingService\n",
    "from owslib.wps import monitorExecution\n",
    "from owslib.wps import printInputOutput"
   ]
  },
  {
   "cell_type": "code",
   "execution_count": 12,
   "metadata": {},
   "outputs": [],
   "source": [
    "wps_url = \"http://change-detection-s1.satcen.nextgeoss.terradue.com/wps/WebProcessingService\""
   ]
  },
  {
   "cell_type": "code",
   "execution_count": 5,
   "metadata": {},
   "outputs": [],
   "source": [
    "wps = WebProcessingService(wps_url, verbose=False, skip_caps=True)"
   ]
  },
  {
   "cell_type": "code",
   "execution_count": 6,
   "metadata": {},
   "outputs": [],
   "source": [
    "wps.getcapabilities()"
   ]
  },
  {
   "cell_type": "code",
   "execution_count": 7,
   "metadata": {},
   "outputs": [
    {
     "name": "stdout",
     "output_type": "stream",
     "text": [
      "GetCapabilities\n",
      "DescribeProcess\n",
      "Execute\n"
     ]
    }
   ],
   "source": [
    "for operation in wps.operations:\n",
    "    print operation.name"
   ]
  },
  {
   "cell_type": "code",
   "execution_count": 8,
   "metadata": {},
   "outputs": [
    {
     "name": "stdout",
     "output_type": "stream",
     "text": [
      "com.terradue.wps_oozie.process.OozieAbstractAlgorithm\n"
     ]
    }
   ],
   "source": [
    "for process in wps.processes:\n",
    "    print process.identifier"
   ]
  },
  {
   "cell_type": "markdown",
   "metadata": {},
   "source": [
    "### Inspect the OGC WPS process information and inputs"
   ]
  },
  {
   "cell_type": "code",
   "execution_count": 18,
   "metadata": {},
   "outputs": [],
   "source": [
    "process_id = 'com.terradue.wps_oozie.process.OozieAbstractAlgorithm'\n",
    "process = wps.describeprocess(process_id)"
   ]
  },
  {
   "cell_type": "code",
   "execution_count": 19,
   "metadata": {},
   "outputs": [
    {
     "data": {
      "text/plain": [
       "'Sentinel-1 GRD ACD algorithm'"
      ]
     },
     "execution_count": 19,
     "metadata": {},
     "output_type": "execute_result"
    }
   ],
   "source": [
    "process.title"
   ]
  },
  {
   "cell_type": "code",
   "execution_count": 20,
   "metadata": {},
   "outputs": [
    {
     "data": {
      "text/plain": [
       "'Amplitude Change Detection Application on GRD StripMap Sentinel-1 Data'"
      ]
     },
     "execution_count": 20,
     "metadata": {},
     "output_type": "execute_result"
    }
   ],
   "source": [
    "process.abstract"
   ]
  },
  {
   "cell_type": "code",
   "execution_count": 49,
   "metadata": {},
   "outputs": [
    {
     "name": "stdout",
     "output_type": "stream",
     "text": [
      " identifier=source, title=Date of acquisition, abstract=Date of the acquisition that will be taken as master scene in Y-m-d format (e.g. 2018-09-24), data type=string\n",
      " Any value allowed\n",
      " Default Value: 2018-09-24 \n",
      " minOccurs=1, maxOccurs=100\n",
      "***\n",
      " identifier=aoi, title=Area of Interest, abstract=Area of Interest, data type=string\n",
      " Any value allowed\n",
      " Default Value: \n",
      "\t\tPOLYGON((8.22762498164556 15.07791004244666,8.763045262446788 12.364797810361907,9.949070337799624 12.826368693010892,10.503161175050785 15.534087438341302,8.22762498164556 15.07791004244666,8.22762498164556 15.07791004244666)))\n",
      "\t\t \n",
      " minOccurs=1, maxOccurs=1\n",
      "***\n",
      " identifier=polarization, title=Polarization, abstract=Polarization, data type=string\n",
      " Any value allowed\n",
      " Default Value: VV \n",
      " minOccurs=1, maxOccurs=1\n",
      "***\n",
      " identifier=debug, title=Debug, abstract=Set it to 1 for a more verbose output, data type=string\n",
      " Any value allowed\n",
      " Default Value: 0 \n",
      " minOccurs=1, maxOccurs=1\n",
      "***\n"
     ]
    }
   ],
   "source": [
    "for input in process.dataInputs:\n",
    "    printInputOutput(input)\n",
    "    print '***'"
   ]
  },
  {
   "cell_type": "markdown",
   "metadata": {},
   "source": [
    "### Prepare the execution request"
   ]
  },
  {
   "cell_type": "code",
   "execution_count": 22,
   "metadata": {},
   "outputs": [],
   "source": [
    "inputs = []\n",
    "inputs.append(('source','2018-09-24'))\n",
    "inputs.append(('aoi','POLYGON((8.22762498164556 15.07791004244666,8.763045262446788 12.364797810361907,9.949070337799624 12.826368693010892,10.503161175050785 15.534087438341302,8.22762498164556 15.07791004244666,8.22762498164556 15.07791004244666)))'))\n",
    "inputs.append(('polarization','VV'))\n",
    "inputs.append(('debug','0'))\n",
    "\n",
    "outputs = [('result_osd',True)]"
   ]
  },
  {
   "cell_type": "markdown",
   "metadata": {},
   "source": [
    "### Execute and monitor the request"
   ]
  },
  {
   "cell_type": "code",
   "execution_count": 23,
   "metadata": {},
   "outputs": [],
   "source": [
    "execution = wps.execute(process_id, inputs, outputs)"
   ]
  },
  {
   "cell_type": "code",
   "execution_count": 25,
   "metadata": {},
   "outputs": [],
   "source": [
    "monitorExecution(execution)"
   ]
  },
  {
   "cell_type": "code",
   "execution_count": 26,
   "metadata": {},
   "outputs": [
    {
     "data": {
      "text/plain": [
       "True"
      ]
     },
     "execution_count": 26,
     "metadata": {},
     "output_type": "execute_result"
    }
   ],
   "source": [
    "execution.isSucceded()"
   ]
  },
  {
   "cell_type": "markdown",
   "metadata": {},
   "source": [
    "### Access the results' OpenSearch Description (osd)"
   ]
  },
  {
   "cell_type": "code",
   "execution_count": 27,
   "metadata": {},
   "outputs": [
    {
     "name": "stdout",
     "output_type": "stream",
     "text": [
      "result_osd\n"
     ]
    }
   ],
   "source": [
    "for output in execution.processOutputs:\n",
    "    print(output.identifier)"
   ]
  },
  {
   "cell_type": "code",
   "execution_count": 28,
   "metadata": {},
   "outputs": [],
   "source": [
    "results_osd = execution.processOutputs[0].reference"
   ]
  },
  {
   "cell_type": "code",
   "execution_count": 29,
   "metadata": {},
   "outputs": [
    {
     "name": "stdout",
     "output_type": "stream",
     "text": [
      "http://change-detection-s1.satcen.nextgeoss.terradue.com/wps/RetrieveResultServlet?id=04104b2a-a605-4122-8b61-33cb61294d97result_osd.493bc4cc-4d54-4dd6-ada7-0d61e9705c59\n"
     ]
    }
   ],
   "source": [
    "print results_osd"
   ]
  },
  {
   "cell_type": "code",
   "execution_count": 54,
   "metadata": {},
   "outputs": [
    {
     "data": {
      "text/plain": [
       "u'<?xml version=\\'1.0\\' encoding=\\'UTF-8\\'?><ns:Reference xmlns:ns=\"http://www.opengis.net/wps/1.0.0\" href=\"http://change-detection-s1.satcen.nextgeoss.terradue.com/sbws/wps/workflow/0000000-190101000006307-oozie-oozi-W/results/description\" method=\"GET\" mimeType=\"application/opensearchdescription+xml\"/>'"
      ]
     },
     "execution_count": 54,
     "metadata": {},
     "output_type": "execute_result"
    }
   ],
   "source": [
    "import requests\n",
    "r = requests.get(results_osd)\n",
    "r.text"
   ]
  },
  {
   "cell_type": "code",
   "execution_count": 66,
   "metadata": {},
   "outputs": [
    {
     "data": {
      "text/plain": [
       "'http://change-detection-s1.satcen.nextgeoss.terradue.com/sbws/wps/workflow/0000000-190101000006307-oozie-oozi-W/results/description'"
      ]
     },
     "execution_count": 66,
     "metadata": {},
     "output_type": "execute_result"
    }
   ],
   "source": [
    "import xml.etree.ElementTree as ET\n",
    "root = ET.fromstring(r.text)\n",
    "root.attrib['href']"
   ]
  },
  {
   "cell_type": "markdown",
   "metadata": {},
   "source": [
    "### Perform an OpenSearch query for the results enclosures"
   ]
  },
  {
   "cell_type": "code",
   "execution_count": 30,
   "metadata": {},
   "outputs": [],
   "source": [
    "import cioppy"
   ]
  },
  {
   "cell_type": "code",
   "execution_count": 31,
   "metadata": {},
   "outputs": [],
   "source": [
    "ciop = cioppy.Cioppy()"
   ]
  },
  {
   "cell_type": "code",
   "execution_count": 67,
   "metadata": {},
   "outputs": [],
   "source": [
    "search = ciop.search(end_point = root.attrib['href'],\n",
    "                     params = [],\n",
    "                     output_fields='enclosure')"
   ]
  },
  {
   "cell_type": "code",
   "execution_count": 68,
   "metadata": {},
   "outputs": [
    {
     "name": "stdout",
     "output_type": "stream",
     "text": [
      "http://change-detection-s1.satcen.nextgeoss.terradue.com/data/run/workflow/0000000-190101000006307-oozie-oozi-W/_results/cd_S1B_S3_GRDH_1SDV_20180924T173006_20180924T173034_012860_017BEB_98E0_S1B_S3_GRDH_1SDV_20180912T173005_20180912T173034_012685_017687_5C7A.png\n",
      "http://change-detection-s1.satcen.nextgeoss.terradue.com/data/run/workflow/0000000-190101000006307-oozie-oozi-W/_results/cd_S1B_S3_GRDH_1SDV_20180924T173006_20180924T173034_012860_017BEB_98E0_S1B_S3_GRDH_1SDV_20180912T173005_20180912T173034_012685_017687_5C7A.pngw\n",
      "http://change-detection-s1.satcen.nextgeoss.terradue.com/data/run/workflow/0000000-190101000006307-oozie-oozi-W/_results/cd_S1B_S3_GRDH_1SDV_20180924T173006_20180924T173034_012860_017BEB_98E0_S1B_S3_GRDH_1SDV_20180912T173005_20180912T173034_012685_017687_5C7A.tgz\n",
      "http://change-detection-s1.satcen.nextgeoss.terradue.com/data/run/workflow/0000000-190101000006307-oozie-oozi-W/_results/cd_S1B_S3_GRDH_1SDV_20180924T173034_20180924T173045_012860_017BEB_CA29_S1B_S3_GRDH_1SDV_20180912T173034_20180912T173045_012685_017687_5033.png\n",
      "http://change-detection-s1.satcen.nextgeoss.terradue.com/data/run/workflow/0000000-190101000006307-oozie-oozi-W/_results/cd_S1B_S3_GRDH_1SDV_20180924T173034_20180924T173045_012860_017BEB_CA29_S1B_S3_GRDH_1SDV_20180912T173034_20180912T173045_012685_017687_5033.pngw\n",
      "http://change-detection-s1.satcen.nextgeoss.terradue.com/data/run/workflow/0000000-190101000006307-oozie-oozi-W/_results/cd_S1B_S3_GRDH_1SDV_20180924T173034_20180924T173045_012860_017BEB_CA29_S1B_S3_GRDH_1SDV_20180912T173034_20180912T173045_012685_017687_5033.tgz\n"
     ]
    }
   ],
   "source": [
    "for result in search:\n",
    "    print result['enclosure']"
   ]
  },
  {
   "cell_type": "markdown",
   "metadata": {},
   "source": [
    "### Download an output file"
   ]
  },
  {
   "cell_type": "code",
   "execution_count": 89,
   "metadata": {},
   "outputs": [
    {
     "data": {
      "text/plain": [
       "'http://change-detection-s1.satcen.nextgeoss.terradue.com/data/run/workflow/0000000-190101000006307-oozie-oozi-W/_results/cd_S1B_S3_GRDH_1SDV_20180924T173034_20180924T173045_012860_017BEB_CA29_S1B_S3_GRDH_1SDV_20180912T173034_20180912T173045_012685_017687_5033.png'"
      ]
     },
     "execution_count": 89,
     "metadata": {},
     "output_type": "execute_result"
    }
   ],
   "source": [
    "search[3]['enclosure']"
   ]
  },
  {
   "cell_type": "code",
   "execution_count": 90,
   "metadata": {},
   "outputs": [],
   "source": [
    "r = requests.get(search[3]['enclosure'],stream=True)"
   ]
  },
  {
   "cell_type": "code",
   "execution_count": 85,
   "metadata": {},
   "outputs": [],
   "source": [
    "with open('output.png', 'wb') as fd:\n",
    "    for chunk in r.iter_content(chunk_size=128):\n",
    "        fd.write(chunk)"
   ]
  }
 ],
 "metadata": {
  "kernelspec": {
   "display_name": "Python [conda env:python2]",
   "language": "python",
   "name": "conda-env-python2-py"
  },
  "language_info": {
   "codemirror_mode": {
    "name": "ipython",
    "version": 2
   },
   "file_extension": ".py",
   "mimetype": "text/x-python",
   "name": "python",
   "nbconvert_exporter": "python",
   "pygments_lexer": "ipython2",
   "version": "2.7.12"
  }
 },
 "nbformat": 4,
 "nbformat_minor": 2
}
