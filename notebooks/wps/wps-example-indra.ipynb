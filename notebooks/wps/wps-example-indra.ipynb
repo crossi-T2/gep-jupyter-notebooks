{
 "cells": [
  {
   "cell_type": "markdown",
   "metadata": {},
   "source": [
    "# Geohazards TEP\n",
    "## Using the OGC WPS interface"
   ]
  },
  {
   "cell_type": "markdown",
   "metadata": {},
   "source": [
    "### Inspect the OGC WPS capabilities"
   ]
  },
  {
   "cell_type": "code",
   "execution_count": 1,
   "metadata": {},
   "outputs": [],
   "source": [
    "from owslib.wps import WebProcessingService\n",
    "from owslib.wps import monitorExecution\n",
    "from owslib.wps import printInputOutput"
   ]
  },
  {
   "cell_type": "code",
   "execution_count": 2,
   "metadata": {},
   "outputs": [],
   "source": [
    "wps_url = \"https://esa-gep-apps-deployer-hetzner-c3.terradue.com/zoo/?\""
   ]
  },
  {
   "cell_type": "code",
   "execution_count": 3,
   "metadata": {},
   "outputs": [],
   "source": [
    "wps = WebProcessingService(wps_url, verbose=False, skip_caps=True)"
   ]
  },
  {
   "cell_type": "code",
   "execution_count": 4,
   "metadata": {},
   "outputs": [],
   "source": [
    "wps.getcapabilities()"
   ]
  },
  {
   "cell_type": "code",
   "execution_count": 5,
   "metadata": {},
   "outputs": [
    {
     "name": "stdout",
     "output_type": "stream",
     "text": [
      "GetCapabilities\n",
      "DescribeProcess\n",
      "Execute\n"
     ]
    }
   ],
   "source": [
    "for operation in wps.operations:\n",
    "    print operation.name"
   ]
  },
  {
   "cell_type": "code",
   "execution_count": 6,
   "metadata": {},
   "outputs": [
    {
     "name": "stdout",
     "output_type": "stream",
     "text": [
      "geohazards_tep_dcs_rss_snap_s1_insar_snap_s1_ifg_overall_1_7\n",
      "geohazards_tep_dcs_rss_snap_s1_amplitude_change_snap_s1_amplitude_change_1_5_2\n",
      "GetStatus\n"
     ]
    }
   ],
   "source": [
    "for process in wps.processes:\n",
    "    print process.identifier"
   ]
  },
  {
   "cell_type": "markdown",
   "metadata": {},
   "source": [
    "### Inspect the OGC WPS process information and inputs"
   ]
  },
  {
   "cell_type": "code",
   "execution_count": 7,
   "metadata": {},
   "outputs": [],
   "source": [
    "process_id = 'geohazards_tep_dcs_rss_snap_s1_insar_snap_s1_ifg_overall_1_7'\n",
    "process = wps.describeprocess(process_id)"
   ]
  },
  {
   "cell_type": "code",
   "execution_count": 8,
   "metadata": {},
   "outputs": [
    {
     "data": {
      "text/plain": [
       "'SNAP Sentinel-1 IW SLC Interferogram and Displacements'"
      ]
     },
     "execution_count": 8,
     "metadata": {},
     "output_type": "execute_result"
    }
   ],
   "source": [
    "process.title"
   ]
  },
  {
   "cell_type": "code",
   "execution_count": 9,
   "metadata": {},
   "outputs": [
    {
     "data": {
      "text/plain": [
       "'This service provides the interferometric processor for the Sentinel-1 TOPSAR IW SLC data performed through SNAP. SNAP is a common architecture for all Sentinel Toolboxes, which is ideal for Earth Observation processing and analysis.'"
      ]
     },
     "execution_count": 9,
     "metadata": {},
     "output_type": "execute_result"
    }
   ],
   "source": [
    "process.abstract"
   ]
  },
  {
   "cell_type": "code",
   "execution_count": 10,
   "metadata": {},
   "outputs": [
    {
     "name": "stdout",
     "output_type": "stream",
     "text": [
      " identifier=master, title=Master product reference, abstract=Define the master product reference to be processed with SNAP, data type=//www.w3.org/TR/xmlschema-2/#string\n",
      " Any value allowed\n",
      " Default Value: None \n",
      " minOccurs=1, maxOccurs=1\n",
      "***\n",
      " identifier=slave, title=Slave product reference, abstract=Define the slave product reference to be processed with SNAP, data type=//www.w3.org/TR/xmlschema-2/#string\n",
      " Any value allowed\n",
      " Default Value: None \n",
      " minOccurs=1, maxOccurs=1\n",
      "***\n",
      " identifier=polarisation, title=Product polarisation, abstract=Define the product polarisation, data type=//www.w3.org/TR/xmlschema-2/#string\n",
      " Allowed Value: VV\n",
      " Allowed Value: VH\n",
      " Allowed Value: HH\n",
      " Allowed Value: HV\n",
      " Default Value: VV \n",
      " minOccurs=1, maxOccurs=1\n",
      "***\n",
      " identifier=orbittype, title=Orbit type, abstract=Define the orbit source for the Orbit Correction. NOTE: Precise orbit is available after 20 days of the data acquisition time., data type=//www.w3.org/TR/xmlschema-2/#string\n",
      " Allowed Value: Sentinel Precise (Auto Download)\n",
      " Allowed Value: Sentinel Restituted (Auto Download)\n",
      " Default Value: Sentinel Restituted (Auto Download) \n",
      " minOccurs=1, maxOccurs=1\n",
      "***\n",
      " identifier=cohWinAz, title=Azimuth coherence window size, abstract=Define the coherence estimation azimuth window size for the Interferogram processing [integer number of pixels], data type=//www.w3.org/TR/xmlschema-2/#string\n",
      " Any value allowed\n",
      " Default Value: 4 \n",
      " minOccurs=1, maxOccurs=1\n",
      "***\n",
      " identifier=cohWinRg, title=Range coherence window size, abstract=Define the coherence estimation range window size for the Interferogram processing [integer number of pixels], data type=//www.w3.org/TR/xmlschema-2/#string\n",
      " Any value allowed\n",
      " Default Value: 20 \n",
      " minOccurs=1, maxOccurs=1\n",
      "***\n",
      " identifier=demtype, title=DEM type, abstract=Define the DEM source for the Back-Geocoding Coregistration, Topographic Phase Removal and Terrain Correction processing. NOTE: SRTM valid in the [-56 deg,+60 deg] range of latitudes., data type=//www.w3.org/TR/xmlschema-2/#string\n",
      " Allowed Value: SRTM 3Sec\n",
      " Default Value: SRTM 3Sec \n",
      " minOccurs=1, maxOccurs=1\n",
      "***\n",
      " identifier=performPhaseFiltering, title=Perform phase filtering, abstract=Select if the Goldstein phase filtering has to be performed, data type=//www.w3.org/TR/xmlschema-2/#string\n",
      " Allowed Value: true\n",
      " Allowed Value: false\n",
      " Default Value: true \n",
      " minOccurs=1, maxOccurs=1\n",
      "***\n",
      " identifier=nAzLooks, title=Azimuth Multilook factor, abstract=Define the multilook factor applied for Azimuth direction in the Multilooking processing [integer], data type=//www.w3.org/TR/xmlschema-2/#string\n",
      " Any value allowed\n",
      " Default Value: 2 \n",
      " minOccurs=1, maxOccurs=1\n",
      "***\n",
      " identifier=nRgLooks, title=Range Multilook factor, abstract=Define the multilook factor applied for Range direction in the Multilooking processing [integer], data type=//www.w3.org/TR/xmlschema-2/#string\n",
      " Any value allowed\n",
      " Default Value: 10 \n",
      " minOccurs=1, maxOccurs=1\n",
      "***\n",
      " identifier=performPhaseUnwrapping, title=Perform phase unwrapping, abstract=Select if the phase unwrapping (through SNAPHU) has to be performed, data type=//www.w3.org/TR/xmlschema-2/#string\n",
      " Allowed Value: true\n",
      " Allowed Value: false\n",
      " Default Value: false \n",
      " minOccurs=1, maxOccurs=1\n",
      "***\n",
      " identifier=SubsetBoundingBox, title=Subset Bounding Box for Unwrapping, abstract=Define the area of interest for the Phase Unwrapping processing [lon_min,lat_min,lon_max,lat_max]., data type=//www.w3.org/TR/xmlschema-2/#string\n",
      " Any value allowed\n",
      " Default Value: None \n",
      " minOccurs=0, maxOccurs=1\n",
      "***\n",
      " identifier=pixelSpacingInMeter, title=Pixel spacing in meters, abstract=Define the pixel spacing for the Terrain-Correction processing [meters], data type=//www.w3.org/TR/xmlschema-2/#string\n",
      " Any value allowed\n",
      " Default Value: 100 \n",
      " minOccurs=1, maxOccurs=1\n",
      "***\n",
      " identifier=_T2Username, title=User name, abstract=Valid username, data type=//www.w3.org/TR/xmlschema-2/#string\n",
      " Any value allowed\n",
      " Default Value: None \n",
      " minOccurs=1, maxOccurs=1\n",
      "***\n",
      " identifier=_T2ApiKey, title=User apikey, abstract=apikey username, data type=//www.w3.org/TR/xmlschema-2/#string\n",
      " Any value allowed\n",
      " Default Value: None \n",
      " minOccurs=0, maxOccurs=1\n",
      "***\n",
      " identifier=_T2ResultsAnalysis, title=Results Analysis, abstract=Terradue results analysis system, data type=//www.w3.org/TR/xmlschema-2/#string\n",
      " Allowed Value: skip\n",
      " Allowed Value: basic\n",
      " Allowed Value: intermediate\n",
      " Allowed Value: advanced\n",
      " Allowed Value: extended\n",
      " Default Value: basic \n",
      " minOccurs=0, maxOccurs=1\n",
      "***\n",
      " identifier=_T2JobInfoFeed, title=Job Info Atom Feed, abstract=Atom Feed containing information about the WPS job, data type=//www.w3.org/TR/xmlschema-2/#string\n",
      " Any value allowed\n",
      " Default Value: None \n",
      " minOccurs=0, maxOccurs=1\n",
      "***\n"
     ]
    }
   ],
   "source": [
    "for input in process.dataInputs:\n",
    "    printInputOutput(input)\n",
    "    print '***'"
   ]
  },
  {
   "cell_type": "markdown",
   "metadata": {},
   "source": [
    "### Prepare the execution request"
   ]
  },
  {
   "cell_type": "markdown",
   "metadata": {},
   "source": [
    "#### Setup credentials"
   ]
  },
  {
   "cell_type": "code",
   "execution_count": 11,
   "metadata": {},
   "outputs": [],
   "source": [
    "import getpass\n",
    "\n",
    "username = getpass.getpass(prompt='Username: ', stream=None) \n",
    "api_key  = getpass.getpass(prompt='API key: ', stream=None) "
   ]
  },
  {
   "cell_type": "markdown",
   "metadata": {},
   "source": [
    "#### Setup input parameters"
   ]
  },
  {
   "cell_type": "code",
   "execution_count": 12,
   "metadata": {},
   "outputs": [],
   "source": [
    "inputs = []\n",
    "inputs.append(('master','https://catalog.terradue.com/sentinel1/search?format=json&uid=S1B_IW_SLC__1SDV_20190904T110908_20190904T110936_017887_021A9D_5B76'))\n",
    "inputs.append(('slave','https://catalog.terradue.com/sentinel1/search?format=json&uid=S1A_IW_SLC__1SDV_20190829T110957_20190829T111026_028783_034297_E716'))\n",
    "inputs.append(('polarisation','VV'))\n",
    "inputs.append(('orbittype','Sentinel Restituted (Auto Download)'))\n",
    "inputs.append(('cohWinAz','4'))\n",
    "inputs.append(('cohWinRg','20'))\n",
    "inputs.append(('demtype','SRTM 3Sec'))\n",
    "inputs.append(('performPhaseFiltering','true'))\n",
    "inputs.append(('nAzLooks','2'))\n",
    "inputs.append(('nRgLooks','10'))\n",
    "inputs.append(('performPhaseUnwrapping','false'))\n",
    "inputs.append(('pixelSpacingInMeter','100'))\n",
    "inputs.append(('_T2Username',username))\n",
    "inputs.append(('_T2ApiKey',api_key))\n",
    "\n",
    "outputs = [('result_osd',False)]"
   ]
  },
  {
   "cell_type": "markdown",
   "metadata": {},
   "source": [
    "### Execute and monitor the request"
   ]
  },
  {
   "cell_type": "code",
   "execution_count": 13,
   "metadata": {},
   "outputs": [],
   "source": [
    "execution = wps.execute(process_id, inputs, outputs)"
   ]
  },
  {
   "cell_type": "code",
   "execution_count": 14,
   "metadata": {},
   "outputs": [],
   "source": [
    "monitorExecution(execution)"
   ]
  },
  {
   "cell_type": "code",
   "execution_count": 15,
   "metadata": {},
   "outputs": [
    {
     "data": {
      "text/plain": [
       "True"
      ]
     },
     "execution_count": 15,
     "metadata": {},
     "output_type": "execute_result"
    }
   ],
   "source": [
    "execution.isSucceded()"
   ]
  },
  {
   "cell_type": "markdown",
   "metadata": {},
   "source": [
    "### Access the results' OpenSearch Description (osd)"
   ]
  },
  {
   "cell_type": "code",
   "execution_count": 16,
   "metadata": {},
   "outputs": [
    {
     "name": "stdout",
     "output_type": "stream",
     "text": [
      "result_osd\n",
      "QUOTATION\n"
     ]
    }
   ],
   "source": [
    "for output in execution.processOutputs:\n",
    "    print(output.identifier)"
   ]
  },
  {
   "cell_type": "code",
   "execution_count": 17,
   "metadata": {},
   "outputs": [],
   "source": [
    "results_osd = execution.processOutputs[0].reference"
   ]
  },
  {
   "cell_type": "code",
   "execution_count": 18,
   "metadata": {},
   "outputs": [
    {
     "data": {
      "text/plain": [
       "'https://recast.terradue.com/t2api/describe/crossi/_results/workflows/geohazards_tep_dcs_rss_snap_s1_insar_snap_s1_ifg_overall_1_7/run/9b06c16a-f673-11e9-a492-0242ac110037/0021891-190318164522056-oozie-oozi-W'"
      ]
     },
     "execution_count": 18,
     "metadata": {},
     "output_type": "execute_result"
    }
   ],
   "source": [
    "results_osd"
   ]
  }
 ],
 "metadata": {
  "kernelspec": {
   "display_name": "Python [conda env:python2]",
   "language": "python",
   "name": "conda-env-python2-py"
  },
  "language_info": {
   "codemirror_mode": {
    "name": "ipython",
    "version": 2
   },
   "file_extension": ".py",
   "mimetype": "text/x-python",
   "name": "python",
   "nbconvert_exporter": "python",
   "pygments_lexer": "ipython2",
   "version": "2.7.12"
  }
 },
 "nbformat": 4,
 "nbformat_minor": 2
}
